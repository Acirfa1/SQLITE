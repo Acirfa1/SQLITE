{
 "cells": [
  {
   "cell_type": "code",
   "execution_count": null,
   "id": "1ee8bb51",
   "metadata": {},
   "outputs": [],
   "source": []
  },
  {
   "cell_type": "code",
   "execution_count": null,
   "id": "a1e7c40b",
   "metadata": {},
   "outputs": [],
   "source": [
    "conn = sqlite.connect(\"state.db\")\n",
    "conn.execute(\"CREATE TABLE state (name TEXT PRIMARY KEY, age INT NOT NULL)\")\n",
    "\n",
    "conn.commit()\n",
    "conn.close()\n",
    "\n",
    "conn = sqlite.connect(\"state.db\")\n",
    "\n",
    "conn.execute('INSERT INTO state (name, age) VALUES(\"John Doe\", 45)')\n",
    "\n",
    "conn.commit()\n",
    "\n",
    "conn.close()\n",
    "\n",
    "\n",
    "# This is to see the contents in the file created\n",
    "conn = sqlite.connect(\"state.db\")\n",
    "\n",
    "curs = conn.cursor()\n",
    "\n",
    "content = curs.execute(\"SELECT * FROM state\")\n",
    "# SInce this print content didnt work, we are trying to use a for loop to print the content of thefile\n",
    "print(content)\n",
    "\n",
    "for record in content:\n",
    "    print(record)\n",
    "\n",
    "conn.close()\n"
   ]
  },
  {
   "cell_type": "code",
   "execution_count": null,
   "id": "98277bff",
   "metadata": {},
   "outputs": [],
   "source": [
    "import sqlite3 as sqlite\n",
    "# Establish connection with the server\n",
    "conn = sqlite.connect(\"database\")\n",
    "\n",
    "# Now create the cursor object to the connection\n",
    "cur = conn.cursor()\n",
    "\n",
    "# Run the program\n",
    "conn.close()"
   ]
  },
  {
   "cell_type": "code",
   "execution_count": null,
   "id": "d223ac23",
   "metadata": {},
   "outputs": [],
   "source": [
    "# Establish connection with the server\n",
    "conn = sqlite.connect(\"pupil.db\")\n",
    "\n",
    "# Now create the cursor object to the connection\n",
    "cur = conn.cursor()\n",
    "\n",
    "# Create table\n",
    "#Adding id as a primary key, auto increment to inentify uniquely\n",
    "def create_table():\n",
    "    cur.execute(\"CREATE TABLE pupil(id interger primary key auto increment, name text)\")\n",
    "\n",
    "# We are not going to be passing the id as its not required because id is automatically passed\n",
    "def insert_value(name):\n",
    "    cur.execute(\"INSERT INTO pupil (name) VALUES(?)\",(name))\n",
    "    conn.commit()\n",
    "\n",
    "def select_all():\n",
    "    cur.execute(\"SELECT * FROM  pupil\")\n",
    "    info = data.fetchall()\n",
    "    return info\n",
    "\n",
    "# NOw selecting with condition \n",
    "def select_by_name(name):\n",
    "    data = cur.execute(\"SELECT * FROM pupil WHERE name = ?\",(name,))\n",
    "    info = data.fetchall()\n",
    "    return info \n",
    "\n",
    "print(select_all())\n",
    "# Run the program\n",
    "conn.close()"
   ]
  },
  {
   "cell_type": "code",
   "execution_count": 2,
   "id": "0aa4afbd",
   "metadata": {},
   "outputs": [
    {
     "ename": "IntegrityError",
     "evalue": "NOT NULL constraint failed: newstudent.id",
     "output_type": "error",
     "traceback": [
      "\u001b[1;31m---------------------------------------------------------------------------\u001b[0m",
      "\u001b[1;31mIntegrityError\u001b[0m                            Traceback (most recent call last)",
      "Cell \u001b[1;32mIn[2], line 14\u001b[0m\n\u001b[0;32m      9\u001b[0m conn\u001b[38;5;241m.\u001b[39mclose()\n\u001b[0;32m     11\u001b[0m conn \u001b[38;5;241m=\u001b[39m sqlite\u001b[38;5;241m.\u001b[39mconnect(\u001b[38;5;124m\"\u001b[39m\u001b[38;5;124mnewstudentS.db\u001b[39m\u001b[38;5;124m\"\u001b[39m)\n\u001b[1;32m---> 14\u001b[0m conn\u001b[38;5;241m.\u001b[39mexecute(\u001b[38;5;124m'\u001b[39m\u001b[38;5;124mINSERT INTO newstudent (first_name) VALUES(\u001b[39m\u001b[38;5;124m\"\u001b[39m\u001b[38;5;124mPROMISE\u001b[39m\u001b[38;5;124m\"\u001b[39m\u001b[38;5;124m)\u001b[39m\u001b[38;5;124m'\u001b[39m)\n\u001b[0;32m     16\u001b[0m conn\u001b[38;5;241m.\u001b[39mcommit()\n\u001b[0;32m     18\u001b[0m conn\u001b[38;5;241m.\u001b[39mclose()\n",
      "\u001b[1;31mIntegrityError\u001b[0m: NOT NULL constraint failed: newstudent.id"
     ]
    }
   ],
   "source": [
    "import sqlite3 as sqlite\n",
    "\n",
    "conn = sqlite.connect(\"newstudents.db\")\n",
    "\n",
    "conn.execute('INSERT INTO newstudents (first_name) VALUES(\"MIRACLE\")')\n",
    "\n",
    "conn.commit()\n",
    "\n",
    "conn.close()\n",
    "\n",
    "conn = sqlite.connect(\"newstudentS.db\")\n",
    "\n",
    "\n",
    "conn.execute('INSERT INTO newstudent (first_name) VALUES(\"PROMISE\")')\n",
    "\n",
    "conn.commit()\n",
    "\n",
    "conn.close()"
   ]
  },
  {
   "cell_type": "code",
   "execution_count": null,
   "id": "7e6162e7",
   "metadata": {},
   "outputs": [],
   "source": [
    "# This is to see the contents in the file created\n",
    "conn = sqlite.connect(\"newstudents.db\")\n",
    "\n",
    "curs = conn.cursor()\n",
    "\n",
    "content = curs.execute(\"SELECT * FROM newstudents\")\n",
    "# SInce this print content didnt work, we are trying to use a for loop to print the content of thefile\n",
    "print(content)\n",
    "\n",
    "for record in content:\n",
    "    print(record)\n",
    "\n",
    "conn.close()\n"
   ]
  },
  {
   "cell_type": "code",
   "execution_count": null,
   "id": "9e08377b",
   "metadata": {},
   "outputs": [],
   "source": [
    "\n"
   ]
  },
  {
   "cell_type": "code",
   "execution_count": null,
   "id": "9876dd55",
   "metadata": {},
   "outputs": [],
   "source": []
  }
 ],
 "metadata": {
  "kernelspec": {
   "display_name": "Python 3 (ipykernel)",
   "language": "python",
   "name": "python3"
  },
  "language_info": {
   "codemirror_mode": {
    "name": "ipython",
    "version": 3
   },
   "file_extension": ".py",
   "mimetype": "text/x-python",
   "name": "python",
   "nbconvert_exporter": "python",
   "pygments_lexer": "ipython3",
   "version": "3.11.4"
  }
 },
 "nbformat": 4,
 "nbformat_minor": 5
}
